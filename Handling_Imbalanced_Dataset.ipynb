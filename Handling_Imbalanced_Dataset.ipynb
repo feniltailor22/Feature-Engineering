{
  "nbformat": 4,
  "nbformat_minor": 0,
  "metadata": {
    "colab": {
      "name": " Handling Imbalanced Dataset.ipynb",
      "provenance": [],
      "collapsed_sections": [],
      "authorship_tag": "ABX9TyO1TyFBAue1bir+YXFOuiit",
      "include_colab_link": true
    },
    "kernelspec": {
      "name": "python3",
      "display_name": "Python 3"
    },
    "language_info": {
      "name": "python"
    }
  },
  "cells": [
    {
      "cell_type": "markdown",
      "metadata": {
        "id": "view-in-github",
        "colab_type": "text"
      },
      "source": [
        "<a href=\"https://colab.research.google.com/github/feniltailor22/Feature-Engineering/blob/main/Handling_Imbalanced_Dataset.ipynb\" target=\"_parent\"><img src=\"https://colab.research.google.com/assets/colab-badge.svg\" alt=\"Open In Colab\"/></a>"
      ]
    },
    {
      "cell_type": "code",
      "execution_count": null,
      "metadata": {
        "colab": {
          "base_uri": "https://localhost:8080/"
        },
        "id": "BDvUQplT3q3A",
        "outputId": "6dcd2da0-d282-4c7c-9c74-636a0258ceb2"
      },
      "outputs": [
        {
          "output_type": "stream",
          "name": "stdout",
          "text": [
            "Requirement already satisfied: imbalanced-learn in /usr/local/lib/python3.7/dist-packages (0.8.1)\n",
            "Requirement already satisfied: joblib>=0.11 in /usr/local/lib/python3.7/dist-packages (from imbalanced-learn) (1.1.0)\n",
            "Requirement already satisfied: scikit-learn>=0.24 in /usr/local/lib/python3.7/dist-packages (from imbalanced-learn) (1.0.1)\n",
            "Requirement already satisfied: numpy>=1.13.3 in /usr/local/lib/python3.7/dist-packages (from imbalanced-learn) (1.19.5)\n",
            "Requirement already satisfied: scipy>=0.19.1 in /usr/local/lib/python3.7/dist-packages (from imbalanced-learn) (1.4.1)\n",
            "Requirement already satisfied: threadpoolctl>=2.0.0 in /usr/local/lib/python3.7/dist-packages (from scikit-learn>=0.24->imbalanced-learn) (3.0.0)\n"
          ]
        }
      ],
      "source": [
        "!pip install imbalanced-learn"
      ]
    },
    {
      "cell_type": "code",
      "source": [
        "import pandas as pd\n",
        "import numpy as np"
      ],
      "metadata": {
        "id": "g8Hm1CUd4E1X"
      },
      "execution_count": null,
      "outputs": []
    },
    {
      "cell_type": "code",
      "source": [
        "#1. Install the Kaggle library\n",
        "! pip install kaggle"
      ],
      "metadata": {
        "colab": {
          "base_uri": "https://localhost:8080/"
        },
        "id": "JRQ3YV-0592R",
        "outputId": "3e1884e0-0560-44cc-92b3-a1794cc137c0"
      },
      "execution_count": null,
      "outputs": [
        {
          "output_type": "stream",
          "name": "stdout",
          "text": [
            "Requirement already satisfied: kaggle in /usr/local/lib/python3.7/dist-packages (1.5.12)\n",
            "Requirement already satisfied: certifi in /usr/local/lib/python3.7/dist-packages (from kaggle) (2021.10.8)\n",
            "Requirement already satisfied: python-dateutil in /usr/local/lib/python3.7/dist-packages (from kaggle) (2.8.2)\n",
            "Requirement already satisfied: six>=1.10 in /usr/local/lib/python3.7/dist-packages (from kaggle) (1.15.0)\n",
            "Requirement already satisfied: python-slugify in /usr/local/lib/python3.7/dist-packages (from kaggle) (5.0.2)\n",
            "Requirement already satisfied: urllib3 in /usr/local/lib/python3.7/dist-packages (from kaggle) (1.24.3)\n",
            "Requirement already satisfied: requests in /usr/local/lib/python3.7/dist-packages (from kaggle) (2.23.0)\n",
            "Requirement already satisfied: tqdm in /usr/local/lib/python3.7/dist-packages (from kaggle) (4.62.3)\n",
            "Requirement already satisfied: text-unidecode>=1.3 in /usr/local/lib/python3.7/dist-packages (from python-slugify->kaggle) (1.3)\n",
            "Requirement already satisfied: idna<3,>=2.5 in /usr/local/lib/python3.7/dist-packages (from requests->kaggle) (2.10)\n",
            "Requirement already satisfied: chardet<4,>=3.0.2 in /usr/local/lib/python3.7/dist-packages (from requests->kaggle) (3.0.4)\n"
          ]
        }
      ]
    },
    {
      "cell_type": "code",
      "source": [
        "#2. Make a directory named “.kaggle”\n",
        "! mkdir ~/.kaggle"
      ],
      "metadata": {
        "colab": {
          "base_uri": "https://localhost:8080/"
        },
        "id": "5ya0fXdQ6AES",
        "outputId": "db90bd13-3f21-432c-b93a-22f09093f619"
      },
      "execution_count": null,
      "outputs": [
        {
          "output_type": "stream",
          "name": "stdout",
          "text": [
            "mkdir: cannot create directory ‘/root/.kaggle’: File exists\n"
          ]
        }
      ]
    },
    {
      "cell_type": "code",
      "source": [
        "#3. Copy the “kaggle.json” into this new directory\n",
        "! cp kaggle.json ~/.kaggle/"
      ],
      "metadata": {
        "id": "Q_7_Cbod6HuU"
      },
      "execution_count": null,
      "outputs": []
    },
    {
      "cell_type": "code",
      "source": [
        "#4. Allocate the required permission for this file.\n",
        "! chmod 600 ~/.kaggle/kaggle.json"
      ],
      "metadata": {
        "id": "5E2Avtsn6KM8"
      },
      "execution_count": null,
      "outputs": []
    },
    {
      "cell_type": "code",
      "source": [
        "#Downloading Competitions dataset:\n",
        "# Copy API Command \n",
        "\n",
        "! kaggle datasets download -d mlg-ulb/creditcardfraud"
      ],
      "metadata": {
        "colab": {
          "base_uri": "https://localhost:8080/"
        },
        "id": "ufRZM_NQ6MBV",
        "outputId": "e9440c7c-d6d3-4e63-a40a-70e5fe0a878e"
      },
      "execution_count": null,
      "outputs": [
        {
          "output_type": "stream",
          "name": "stdout",
          "text": [
            "Downloading creditcardfraud.zip to /content\n",
            " 86% 57.0M/66.0M [00:02<00:00, 25.5MB/s]\n",
            "100% 66.0M/66.0M [00:02<00:00, 30.0MB/s]\n"
          ]
        }
      ]
    },
    {
      "cell_type": "code",
      "source": [
        "#unzipping the zip files and deleting the zip files\n",
        "!unzip \\*.zip  && rm *.zip"
      ],
      "metadata": {
        "colab": {
          "base_uri": "https://localhost:8080/"
        },
        "id": "yzklWOO_6R1n",
        "outputId": "c95645b2-e22b-428d-baef-5f34a4f12929"
      },
      "execution_count": null,
      "outputs": [
        {
          "output_type": "stream",
          "name": "stdout",
          "text": [
            "Archive:  creditcardfraud.zip\n",
            "  inflating: creditcard.csv          \n"
          ]
        }
      ]
    },
    {
      "cell_type": "code",
      "source": [
        "df= pd.read_csv('/content/creditcard.csv')"
      ],
      "metadata": {
        "id": "nwbsGirn6WOJ"
      },
      "execution_count": null,
      "outputs": []
    },
    {
      "cell_type": "code",
      "source": [
        "df.head()"
      ],
      "metadata": {
        "colab": {
          "base_uri": "https://localhost:8080/",
          "height": 270
        },
        "id": "jd1Q0NqR6dyq",
        "outputId": "94fe3e96-bdac-4e02-e6da-c3b8e5b9ac20"
      },
      "execution_count": null,
      "outputs": [
        {
          "output_type": "execute_result",
          "data": {
            "text/html": [
              "\n",
              "  <div id=\"df-245b8aae-1ff2-48ad-8edc-10a32939ac61\">\n",
              "    <div class=\"colab-df-container\">\n",
              "      <div>\n",
              "<style scoped>\n",
              "    .dataframe tbody tr th:only-of-type {\n",
              "        vertical-align: middle;\n",
              "    }\n",
              "\n",
              "    .dataframe tbody tr th {\n",
              "        vertical-align: top;\n",
              "    }\n",
              "\n",
              "    .dataframe thead th {\n",
              "        text-align: right;\n",
              "    }\n",
              "</style>\n",
              "<table border=\"1\" class=\"dataframe\">\n",
              "  <thead>\n",
              "    <tr style=\"text-align: right;\">\n",
              "      <th></th>\n",
              "      <th>Time</th>\n",
              "      <th>V1</th>\n",
              "      <th>V2</th>\n",
              "      <th>V3</th>\n",
              "      <th>V4</th>\n",
              "      <th>V5</th>\n",
              "      <th>V6</th>\n",
              "      <th>V7</th>\n",
              "      <th>V8</th>\n",
              "      <th>V9</th>\n",
              "      <th>V10</th>\n",
              "      <th>V11</th>\n",
              "      <th>V12</th>\n",
              "      <th>V13</th>\n",
              "      <th>V14</th>\n",
              "      <th>V15</th>\n",
              "      <th>V16</th>\n",
              "      <th>V17</th>\n",
              "      <th>V18</th>\n",
              "      <th>V19</th>\n",
              "      <th>V20</th>\n",
              "      <th>V21</th>\n",
              "      <th>V22</th>\n",
              "      <th>V23</th>\n",
              "      <th>V24</th>\n",
              "      <th>V25</th>\n",
              "      <th>V26</th>\n",
              "      <th>V27</th>\n",
              "      <th>V28</th>\n",
              "      <th>Amount</th>\n",
              "      <th>Class</th>\n",
              "    </tr>\n",
              "  </thead>\n",
              "  <tbody>\n",
              "    <tr>\n",
              "      <th>0</th>\n",
              "      <td>0.0</td>\n",
              "      <td>-1.359807</td>\n",
              "      <td>-0.072781</td>\n",
              "      <td>2.536347</td>\n",
              "      <td>1.378155</td>\n",
              "      <td>-0.338321</td>\n",
              "      <td>0.462388</td>\n",
              "      <td>0.239599</td>\n",
              "      <td>0.098698</td>\n",
              "      <td>0.363787</td>\n",
              "      <td>0.090794</td>\n",
              "      <td>-0.551600</td>\n",
              "      <td>-0.617801</td>\n",
              "      <td>-0.991390</td>\n",
              "      <td>-0.311169</td>\n",
              "      <td>1.468177</td>\n",
              "      <td>-0.470401</td>\n",
              "      <td>0.207971</td>\n",
              "      <td>0.025791</td>\n",
              "      <td>0.403993</td>\n",
              "      <td>0.251412</td>\n",
              "      <td>-0.018307</td>\n",
              "      <td>0.277838</td>\n",
              "      <td>-0.110474</td>\n",
              "      <td>0.066928</td>\n",
              "      <td>0.128539</td>\n",
              "      <td>-0.189115</td>\n",
              "      <td>0.133558</td>\n",
              "      <td>-0.021053</td>\n",
              "      <td>149.62</td>\n",
              "      <td>0</td>\n",
              "    </tr>\n",
              "    <tr>\n",
              "      <th>1</th>\n",
              "      <td>0.0</td>\n",
              "      <td>1.191857</td>\n",
              "      <td>0.266151</td>\n",
              "      <td>0.166480</td>\n",
              "      <td>0.448154</td>\n",
              "      <td>0.060018</td>\n",
              "      <td>-0.082361</td>\n",
              "      <td>-0.078803</td>\n",
              "      <td>0.085102</td>\n",
              "      <td>-0.255425</td>\n",
              "      <td>-0.166974</td>\n",
              "      <td>1.612727</td>\n",
              "      <td>1.065235</td>\n",
              "      <td>0.489095</td>\n",
              "      <td>-0.143772</td>\n",
              "      <td>0.635558</td>\n",
              "      <td>0.463917</td>\n",
              "      <td>-0.114805</td>\n",
              "      <td>-0.183361</td>\n",
              "      <td>-0.145783</td>\n",
              "      <td>-0.069083</td>\n",
              "      <td>-0.225775</td>\n",
              "      <td>-0.638672</td>\n",
              "      <td>0.101288</td>\n",
              "      <td>-0.339846</td>\n",
              "      <td>0.167170</td>\n",
              "      <td>0.125895</td>\n",
              "      <td>-0.008983</td>\n",
              "      <td>0.014724</td>\n",
              "      <td>2.69</td>\n",
              "      <td>0</td>\n",
              "    </tr>\n",
              "    <tr>\n",
              "      <th>2</th>\n",
              "      <td>1.0</td>\n",
              "      <td>-1.358354</td>\n",
              "      <td>-1.340163</td>\n",
              "      <td>1.773209</td>\n",
              "      <td>0.379780</td>\n",
              "      <td>-0.503198</td>\n",
              "      <td>1.800499</td>\n",
              "      <td>0.791461</td>\n",
              "      <td>0.247676</td>\n",
              "      <td>-1.514654</td>\n",
              "      <td>0.207643</td>\n",
              "      <td>0.624501</td>\n",
              "      <td>0.066084</td>\n",
              "      <td>0.717293</td>\n",
              "      <td>-0.165946</td>\n",
              "      <td>2.345865</td>\n",
              "      <td>-2.890083</td>\n",
              "      <td>1.109969</td>\n",
              "      <td>-0.121359</td>\n",
              "      <td>-2.261857</td>\n",
              "      <td>0.524980</td>\n",
              "      <td>0.247998</td>\n",
              "      <td>0.771679</td>\n",
              "      <td>0.909412</td>\n",
              "      <td>-0.689281</td>\n",
              "      <td>-0.327642</td>\n",
              "      <td>-0.139097</td>\n",
              "      <td>-0.055353</td>\n",
              "      <td>-0.059752</td>\n",
              "      <td>378.66</td>\n",
              "      <td>0</td>\n",
              "    </tr>\n",
              "    <tr>\n",
              "      <th>3</th>\n",
              "      <td>1.0</td>\n",
              "      <td>-0.966272</td>\n",
              "      <td>-0.185226</td>\n",
              "      <td>1.792993</td>\n",
              "      <td>-0.863291</td>\n",
              "      <td>-0.010309</td>\n",
              "      <td>1.247203</td>\n",
              "      <td>0.237609</td>\n",
              "      <td>0.377436</td>\n",
              "      <td>-1.387024</td>\n",
              "      <td>-0.054952</td>\n",
              "      <td>-0.226487</td>\n",
              "      <td>0.178228</td>\n",
              "      <td>0.507757</td>\n",
              "      <td>-0.287924</td>\n",
              "      <td>-0.631418</td>\n",
              "      <td>-1.059647</td>\n",
              "      <td>-0.684093</td>\n",
              "      <td>1.965775</td>\n",
              "      <td>-1.232622</td>\n",
              "      <td>-0.208038</td>\n",
              "      <td>-0.108300</td>\n",
              "      <td>0.005274</td>\n",
              "      <td>-0.190321</td>\n",
              "      <td>-1.175575</td>\n",
              "      <td>0.647376</td>\n",
              "      <td>-0.221929</td>\n",
              "      <td>0.062723</td>\n",
              "      <td>0.061458</td>\n",
              "      <td>123.50</td>\n",
              "      <td>0</td>\n",
              "    </tr>\n",
              "    <tr>\n",
              "      <th>4</th>\n",
              "      <td>2.0</td>\n",
              "      <td>-1.158233</td>\n",
              "      <td>0.877737</td>\n",
              "      <td>1.548718</td>\n",
              "      <td>0.403034</td>\n",
              "      <td>-0.407193</td>\n",
              "      <td>0.095921</td>\n",
              "      <td>0.592941</td>\n",
              "      <td>-0.270533</td>\n",
              "      <td>0.817739</td>\n",
              "      <td>0.753074</td>\n",
              "      <td>-0.822843</td>\n",
              "      <td>0.538196</td>\n",
              "      <td>1.345852</td>\n",
              "      <td>-1.119670</td>\n",
              "      <td>0.175121</td>\n",
              "      <td>-0.451449</td>\n",
              "      <td>-0.237033</td>\n",
              "      <td>-0.038195</td>\n",
              "      <td>0.803487</td>\n",
              "      <td>0.408542</td>\n",
              "      <td>-0.009431</td>\n",
              "      <td>0.798278</td>\n",
              "      <td>-0.137458</td>\n",
              "      <td>0.141267</td>\n",
              "      <td>-0.206010</td>\n",
              "      <td>0.502292</td>\n",
              "      <td>0.219422</td>\n",
              "      <td>0.215153</td>\n",
              "      <td>69.99</td>\n",
              "      <td>0</td>\n",
              "    </tr>\n",
              "  </tbody>\n",
              "</table>\n",
              "</div>\n",
              "      <button class=\"colab-df-convert\" onclick=\"convertToInteractive('df-245b8aae-1ff2-48ad-8edc-10a32939ac61')\"\n",
              "              title=\"Convert this dataframe to an interactive table.\"\n",
              "              style=\"display:none;\">\n",
              "        \n",
              "  <svg xmlns=\"http://www.w3.org/2000/svg\" height=\"24px\"viewBox=\"0 0 24 24\"\n",
              "       width=\"24px\">\n",
              "    <path d=\"M0 0h24v24H0V0z\" fill=\"none\"/>\n",
              "    <path d=\"M18.56 5.44l.94 2.06.94-2.06 2.06-.94-2.06-.94-.94-2.06-.94 2.06-2.06.94zm-11 1L8.5 8.5l.94-2.06 2.06-.94-2.06-.94L8.5 2.5l-.94 2.06-2.06.94zm10 10l.94 2.06.94-2.06 2.06-.94-2.06-.94-.94-2.06-.94 2.06-2.06.94z\"/><path d=\"M17.41 7.96l-1.37-1.37c-.4-.4-.92-.59-1.43-.59-.52 0-1.04.2-1.43.59L10.3 9.45l-7.72 7.72c-.78.78-.78 2.05 0 2.83L4 21.41c.39.39.9.59 1.41.59.51 0 1.02-.2 1.41-.59l7.78-7.78 2.81-2.81c.8-.78.8-2.07 0-2.86zM5.41 20L4 18.59l7.72-7.72 1.47 1.35L5.41 20z\"/>\n",
              "  </svg>\n",
              "      </button>\n",
              "      \n",
              "  <style>\n",
              "    .colab-df-container {\n",
              "      display:flex;\n",
              "      flex-wrap:wrap;\n",
              "      gap: 12px;\n",
              "    }\n",
              "\n",
              "    .colab-df-convert {\n",
              "      background-color: #E8F0FE;\n",
              "      border: none;\n",
              "      border-radius: 50%;\n",
              "      cursor: pointer;\n",
              "      display: none;\n",
              "      fill: #1967D2;\n",
              "      height: 32px;\n",
              "      padding: 0 0 0 0;\n",
              "      width: 32px;\n",
              "    }\n",
              "\n",
              "    .colab-df-convert:hover {\n",
              "      background-color: #E2EBFA;\n",
              "      box-shadow: 0px 1px 2px rgba(60, 64, 67, 0.3), 0px 1px 3px 1px rgba(60, 64, 67, 0.15);\n",
              "      fill: #174EA6;\n",
              "    }\n",
              "\n",
              "    [theme=dark] .colab-df-convert {\n",
              "      background-color: #3B4455;\n",
              "      fill: #D2E3FC;\n",
              "    }\n",
              "\n",
              "    [theme=dark] .colab-df-convert:hover {\n",
              "      background-color: #434B5C;\n",
              "      box-shadow: 0px 1px 3px 1px rgba(0, 0, 0, 0.15);\n",
              "      filter: drop-shadow(0px 1px 2px rgba(0, 0, 0, 0.3));\n",
              "      fill: #FFFFFF;\n",
              "    }\n",
              "  </style>\n",
              "\n",
              "      <script>\n",
              "        const buttonEl =\n",
              "          document.querySelector('#df-245b8aae-1ff2-48ad-8edc-10a32939ac61 button.colab-df-convert');\n",
              "        buttonEl.style.display =\n",
              "          google.colab.kernel.accessAllowed ? 'block' : 'none';\n",
              "\n",
              "        async function convertToInteractive(key) {\n",
              "          const element = document.querySelector('#df-245b8aae-1ff2-48ad-8edc-10a32939ac61');\n",
              "          const dataTable =\n",
              "            await google.colab.kernel.invokeFunction('convertToInteractive',\n",
              "                                                     [key], {});\n",
              "          if (!dataTable) return;\n",
              "\n",
              "          const docLinkHtml = 'Like what you see? Visit the ' +\n",
              "            '<a target=\"_blank\" href=https://colab.research.google.com/notebooks/data_table.ipynb>data table notebook</a>'\n",
              "            + ' to learn more about interactive tables.';\n",
              "          element.innerHTML = '';\n",
              "          dataTable['output_type'] = 'display_data';\n",
              "          await google.colab.output.renderOutput(dataTable, element);\n",
              "          const docLink = document.createElement('div');\n",
              "          docLink.innerHTML = docLinkHtml;\n",
              "          element.appendChild(docLink);\n",
              "        }\n",
              "      </script>\n",
              "    </div>\n",
              "  </div>\n",
              "  "
            ],
            "text/plain": [
              "   Time        V1        V2        V3  ...       V27       V28  Amount  Class\n",
              "0   0.0 -1.359807 -0.072781  2.536347  ...  0.133558 -0.021053  149.62      0\n",
              "1   0.0  1.191857  0.266151  0.166480  ... -0.008983  0.014724    2.69      0\n",
              "2   1.0 -1.358354 -1.340163  1.773209  ... -0.055353 -0.059752  378.66      0\n",
              "3   1.0 -0.966272 -0.185226  1.792993  ...  0.062723  0.061458  123.50      0\n",
              "4   2.0 -1.158233  0.877737  1.548718  ...  0.219422  0.215153   69.99      0\n",
              "\n",
              "[5 rows x 31 columns]"
            ]
          },
          "metadata": {},
          "execution_count": 18
        }
      ]
    },
    {
      "cell_type": "code",
      "source": [
        "df.info()"
      ],
      "metadata": {
        "colab": {
          "base_uri": "https://localhost:8080/"
        },
        "id": "bAirxb_16gsG",
        "outputId": "610ff171-cb83-4437-804a-55ede1b3e4c7"
      },
      "execution_count": null,
      "outputs": [
        {
          "output_type": "stream",
          "name": "stdout",
          "text": [
            "<class 'pandas.core.frame.DataFrame'>\n",
            "RangeIndex: 284807 entries, 0 to 284806\n",
            "Data columns (total 31 columns):\n",
            " #   Column  Non-Null Count   Dtype  \n",
            "---  ------  --------------   -----  \n",
            " 0   Time    284807 non-null  float64\n",
            " 1   V1      284807 non-null  float64\n",
            " 2   V2      284807 non-null  float64\n",
            " 3   V3      284807 non-null  float64\n",
            " 4   V4      284807 non-null  float64\n",
            " 5   V5      284807 non-null  float64\n",
            " 6   V6      284807 non-null  float64\n",
            " 7   V7      284807 non-null  float64\n",
            " 8   V8      284807 non-null  float64\n",
            " 9   V9      284807 non-null  float64\n",
            " 10  V10     284807 non-null  float64\n",
            " 11  V11     284807 non-null  float64\n",
            " 12  V12     284807 non-null  float64\n",
            " 13  V13     284807 non-null  float64\n",
            " 14  V14     284807 non-null  float64\n",
            " 15  V15     284807 non-null  float64\n",
            " 16  V16     284807 non-null  float64\n",
            " 17  V17     284807 non-null  float64\n",
            " 18  V18     284807 non-null  float64\n",
            " 19  V19     284807 non-null  float64\n",
            " 20  V20     284807 non-null  float64\n",
            " 21  V21     284807 non-null  float64\n",
            " 22  V22     284807 non-null  float64\n",
            " 23  V23     284807 non-null  float64\n",
            " 24  V24     284807 non-null  float64\n",
            " 25  V25     284807 non-null  float64\n",
            " 26  V26     284807 non-null  float64\n",
            " 27  V27     284807 non-null  float64\n",
            " 28  V28     284807 non-null  float64\n",
            " 29  Amount  284807 non-null  float64\n",
            " 30  Class   284807 non-null  int64  \n",
            "dtypes: float64(30), int64(1)\n",
            "memory usage: 67.4 MB\n"
          ]
        }
      ]
    },
    {
      "cell_type": "code",
      "source": [
        "df['Class'].value_counts()"
      ],
      "metadata": {
        "colab": {
          "base_uri": "https://localhost:8080/"
        },
        "id": "b3LDm9ed6j_c",
        "outputId": "05c3df4c-fcb0-4015-e329-7ecca025bd61"
      },
      "execution_count": null,
      "outputs": [
        {
          "output_type": "execute_result",
          "data": {
            "text/plain": [
              "0    284315\n",
              "1       492\n",
              "Name: Class, dtype: int64"
            ]
          },
          "metadata": {},
          "execution_count": 20
        }
      ]
    },
    {
      "cell_type": "code",
      "source": [
        "#Divide by class\n",
        "\n",
        "df_class_0= df[df['Class']==0]\n",
        "df_class_1= df[df['Class']==1]"
      ],
      "metadata": {
        "id": "ap25R33eAAlO"
      },
      "execution_count": null,
      "outputs": []
    },
    {
      "cell_type": "code",
      "source": [
        "df_class_0.shape"
      ],
      "metadata": {
        "colab": {
          "base_uri": "https://localhost:8080/"
        },
        "id": "WaGqBc59AxcO",
        "outputId": "592ffff3-3239-49d7-c9bb-6d16983dac11"
      },
      "execution_count": null,
      "outputs": [
        {
          "output_type": "execute_result",
          "data": {
            "text/plain": [
              "(284315, 31)"
            ]
          },
          "metadata": {},
          "execution_count": 22
        }
      ]
    },
    {
      "cell_type": "code",
      "source": [
        "df_class_1.shape"
      ],
      "metadata": {
        "colab": {
          "base_uri": "https://localhost:8080/"
        },
        "id": "_CfkFks2A0ZG",
        "outputId": "78b44410-9e26-450d-83ea-5b0a474b9c11"
      },
      "execution_count": null,
      "outputs": [
        {
          "output_type": "execute_result",
          "data": {
            "text/plain": [
              "(492, 31)"
            ]
          },
          "metadata": {},
          "execution_count": 23
        }
      ]
    },
    {
      "cell_type": "code",
      "source": [
        "# Class count\n",
        "count_class_0, count_class_1 = df['Class'].value_counts()\n",
        "\n",
        "count_class_0, count_class_1"
      ],
      "metadata": {
        "colab": {
          "base_uri": "https://localhost:8080/"
        },
        "id": "i0gZOlI9CRKK",
        "outputId": "b152f43d-f2ea-4c7d-aa62-955d601205aa"
      },
      "execution_count": null,
      "outputs": [
        {
          "output_type": "execute_result",
          "data": {
            "text/plain": [
              "(284315, 492)"
            ]
          },
          "metadata": {},
          "execution_count": 24
        }
      ]
    },
    {
      "cell_type": "markdown",
      "source": [
        "**Method 1: Undersampling**"
      ],
      "metadata": {
        "id": "C1sLsvA-Bg9d"
      }
    },
    {
      "cell_type": "code",
      "source": [
        "# Undersample 0-class and concat the DataFrames of both class"
      ],
      "metadata": {
        "id": "vILRv0bABB2J"
      },
      "execution_count": null,
      "outputs": []
    },
    {
      "cell_type": "code",
      "source": [
        "df_class_0_under= df_class_0.sample(count_class_1)"
      ],
      "metadata": {
        "id": "DMfcWpiIBnZO"
      },
      "execution_count": null,
      "outputs": []
    },
    {
      "cell_type": "code",
      "source": [
        "df_undersample_test= pd.concat([df_class_0_under, df_class_1], axis=0)"
      ],
      "metadata": {
        "id": "eeVvLENMD_fS"
      },
      "execution_count": null,
      "outputs": []
    },
    {
      "cell_type": "code",
      "source": [
        "df_undersample_test.head()"
      ],
      "metadata": {
        "colab": {
          "base_uri": "https://localhost:8080/",
          "height": 270
        },
        "id": "xgM6-Gs2EK1B",
        "outputId": "7c5fd934-17f4-4715-af37-d141058ae38f"
      },
      "execution_count": null,
      "outputs": [
        {
          "output_type": "execute_result",
          "data": {
            "text/html": [
              "\n",
              "  <div id=\"df-ee0a7111-9b55-42e4-80ca-93c7a3570e7e\">\n",
              "    <div class=\"colab-df-container\">\n",
              "      <div>\n",
              "<style scoped>\n",
              "    .dataframe tbody tr th:only-of-type {\n",
              "        vertical-align: middle;\n",
              "    }\n",
              "\n",
              "    .dataframe tbody tr th {\n",
              "        vertical-align: top;\n",
              "    }\n",
              "\n",
              "    .dataframe thead th {\n",
              "        text-align: right;\n",
              "    }\n",
              "</style>\n",
              "<table border=\"1\" class=\"dataframe\">\n",
              "  <thead>\n",
              "    <tr style=\"text-align: right;\">\n",
              "      <th></th>\n",
              "      <th>Time</th>\n",
              "      <th>V1</th>\n",
              "      <th>V2</th>\n",
              "      <th>V3</th>\n",
              "      <th>V4</th>\n",
              "      <th>V5</th>\n",
              "      <th>V6</th>\n",
              "      <th>V7</th>\n",
              "      <th>V8</th>\n",
              "      <th>V9</th>\n",
              "      <th>V10</th>\n",
              "      <th>V11</th>\n",
              "      <th>V12</th>\n",
              "      <th>V13</th>\n",
              "      <th>V14</th>\n",
              "      <th>V15</th>\n",
              "      <th>V16</th>\n",
              "      <th>V17</th>\n",
              "      <th>V18</th>\n",
              "      <th>V19</th>\n",
              "      <th>V20</th>\n",
              "      <th>V21</th>\n",
              "      <th>V22</th>\n",
              "      <th>V23</th>\n",
              "      <th>V24</th>\n",
              "      <th>V25</th>\n",
              "      <th>V26</th>\n",
              "      <th>V27</th>\n",
              "      <th>V28</th>\n",
              "      <th>Amount</th>\n",
              "      <th>Class</th>\n",
              "    </tr>\n",
              "  </thead>\n",
              "  <tbody>\n",
              "    <tr>\n",
              "      <th>229245</th>\n",
              "      <td>145850.0</td>\n",
              "      <td>-0.386896</td>\n",
              "      <td>0.457732</td>\n",
              "      <td>0.195867</td>\n",
              "      <td>0.769110</td>\n",
              "      <td>1.403911</td>\n",
              "      <td>0.422792</td>\n",
              "      <td>0.406109</td>\n",
              "      <td>-0.044830</td>\n",
              "      <td>-0.753808</td>\n",
              "      <td>0.169354</td>\n",
              "      <td>0.426494</td>\n",
              "      <td>0.995513</td>\n",
              "      <td>1.383411</td>\n",
              "      <td>0.322738</td>\n",
              "      <td>0.751885</td>\n",
              "      <td>-1.040170</td>\n",
              "      <td>0.023847</td>\n",
              "      <td>0.512970</td>\n",
              "      <td>3.582517</td>\n",
              "      <td>0.295253</td>\n",
              "      <td>-0.161702</td>\n",
              "      <td>-0.293195</td>\n",
              "      <td>-0.174257</td>\n",
              "      <td>-0.101837</td>\n",
              "      <td>-0.388086</td>\n",
              "      <td>-0.172239</td>\n",
              "      <td>0.131554</td>\n",
              "      <td>0.164403</td>\n",
              "      <td>37.91</td>\n",
              "      <td>0</td>\n",
              "    </tr>\n",
              "    <tr>\n",
              "      <th>129555</th>\n",
              "      <td>79133.0</td>\n",
              "      <td>-1.926447</td>\n",
              "      <td>0.700395</td>\n",
              "      <td>1.206153</td>\n",
              "      <td>0.624355</td>\n",
              "      <td>0.132835</td>\n",
              "      <td>-1.113698</td>\n",
              "      <td>0.185074</td>\n",
              "      <td>0.175427</td>\n",
              "      <td>-0.683115</td>\n",
              "      <td>-0.494616</td>\n",
              "      <td>-0.237208</td>\n",
              "      <td>0.029518</td>\n",
              "      <td>0.368991</td>\n",
              "      <td>-0.177903</td>\n",
              "      <td>1.378862</td>\n",
              "      <td>0.243845</td>\n",
              "      <td>0.412704</td>\n",
              "      <td>-0.032922</td>\n",
              "      <td>0.784192</td>\n",
              "      <td>-0.375002</td>\n",
              "      <td>-0.264376</td>\n",
              "      <td>-0.649828</td>\n",
              "      <td>0.348864</td>\n",
              "      <td>0.353459</td>\n",
              "      <td>0.165969</td>\n",
              "      <td>0.221926</td>\n",
              "      <td>-0.352566</td>\n",
              "      <td>-0.007488</td>\n",
              "      <td>1.98</td>\n",
              "      <td>0</td>\n",
              "    </tr>\n",
              "    <tr>\n",
              "      <th>114013</th>\n",
              "      <td>73300.0</td>\n",
              "      <td>-1.113287</td>\n",
              "      <td>0.674292</td>\n",
              "      <td>0.578325</td>\n",
              "      <td>1.002831</td>\n",
              "      <td>-0.448295</td>\n",
              "      <td>-0.200324</td>\n",
              "      <td>0.844741</td>\n",
              "      <td>0.432850</td>\n",
              "      <td>-0.677411</td>\n",
              "      <td>-0.420062</td>\n",
              "      <td>-0.546206</td>\n",
              "      <td>-0.234151</td>\n",
              "      <td>-0.516605</td>\n",
              "      <td>0.806222</td>\n",
              "      <td>1.318860</td>\n",
              "      <td>-0.438872</td>\n",
              "      <td>0.281988</td>\n",
              "      <td>-0.158036</td>\n",
              "      <td>-0.005976</td>\n",
              "      <td>0.391944</td>\n",
              "      <td>0.291804</td>\n",
              "      <td>0.513028</td>\n",
              "      <td>0.339782</td>\n",
              "      <td>0.051387</td>\n",
              "      <td>-0.194372</td>\n",
              "      <td>-0.290791</td>\n",
              "      <td>0.247272</td>\n",
              "      <td>0.141013</td>\n",
              "      <td>182.45</td>\n",
              "      <td>0</td>\n",
              "    </tr>\n",
              "    <tr>\n",
              "      <th>66338</th>\n",
              "      <td>52001.0</td>\n",
              "      <td>1.003141</td>\n",
              "      <td>-1.202190</td>\n",
              "      <td>0.284106</td>\n",
              "      <td>-0.435031</td>\n",
              "      <td>-1.383657</td>\n",
              "      <td>-0.725017</td>\n",
              "      <td>-0.428640</td>\n",
              "      <td>-0.044558</td>\n",
              "      <td>-0.697555</td>\n",
              "      <td>0.675110</td>\n",
              "      <td>1.184121</td>\n",
              "      <td>-0.422745</td>\n",
              "      <td>-1.441270</td>\n",
              "      <td>0.221471</td>\n",
              "      <td>-0.617826</td>\n",
              "      <td>0.957993</td>\n",
              "      <td>0.454612</td>\n",
              "      <td>-1.050877</td>\n",
              "      <td>0.982938</td>\n",
              "      <td>0.327479</td>\n",
              "      <td>0.166126</td>\n",
              "      <td>-0.005226</td>\n",
              "      <td>-0.155054</td>\n",
              "      <td>0.526200</td>\n",
              "      <td>0.368448</td>\n",
              "      <td>-0.297641</td>\n",
              "      <td>-0.040109</td>\n",
              "      <td>0.032838</td>\n",
              "      <td>188.07</td>\n",
              "      <td>0</td>\n",
              "    </tr>\n",
              "    <tr>\n",
              "      <th>62073</th>\n",
              "      <td>50113.0</td>\n",
              "      <td>1.116370</td>\n",
              "      <td>-1.208718</td>\n",
              "      <td>0.422586</td>\n",
              "      <td>-1.128087</td>\n",
              "      <td>-0.760068</td>\n",
              "      <td>1.293337</td>\n",
              "      <td>-1.237809</td>\n",
              "      <td>0.623584</td>\n",
              "      <td>-0.172205</td>\n",
              "      <td>0.449056</td>\n",
              "      <td>-0.239732</td>\n",
              "      <td>-1.213712</td>\n",
              "      <td>-2.136243</td>\n",
              "      <td>0.500046</td>\n",
              "      <td>2.600208</td>\n",
              "      <td>-1.942821</td>\n",
              "      <td>1.089736</td>\n",
              "      <td>-0.599136</td>\n",
              "      <td>-2.132752</td>\n",
              "      <td>-0.623900</td>\n",
              "      <td>-0.432630</td>\n",
              "      <td>-0.886756</td>\n",
              "      <td>0.304861</td>\n",
              "      <td>-1.363456</td>\n",
              "      <td>-0.551901</td>\n",
              "      <td>1.356802</td>\n",
              "      <td>-0.018412</td>\n",
              "      <td>0.000132</td>\n",
              "      <td>60.81</td>\n",
              "      <td>0</td>\n",
              "    </tr>\n",
              "  </tbody>\n",
              "</table>\n",
              "</div>\n",
              "      <button class=\"colab-df-convert\" onclick=\"convertToInteractive('df-ee0a7111-9b55-42e4-80ca-93c7a3570e7e')\"\n",
              "              title=\"Convert this dataframe to an interactive table.\"\n",
              "              style=\"display:none;\">\n",
              "        \n",
              "  <svg xmlns=\"http://www.w3.org/2000/svg\" height=\"24px\"viewBox=\"0 0 24 24\"\n",
              "       width=\"24px\">\n",
              "    <path d=\"M0 0h24v24H0V0z\" fill=\"none\"/>\n",
              "    <path d=\"M18.56 5.44l.94 2.06.94-2.06 2.06-.94-2.06-.94-.94-2.06-.94 2.06-2.06.94zm-11 1L8.5 8.5l.94-2.06 2.06-.94-2.06-.94L8.5 2.5l-.94 2.06-2.06.94zm10 10l.94 2.06.94-2.06 2.06-.94-2.06-.94-.94-2.06-.94 2.06-2.06.94z\"/><path d=\"M17.41 7.96l-1.37-1.37c-.4-.4-.92-.59-1.43-.59-.52 0-1.04.2-1.43.59L10.3 9.45l-7.72 7.72c-.78.78-.78 2.05 0 2.83L4 21.41c.39.39.9.59 1.41.59.51 0 1.02-.2 1.41-.59l7.78-7.78 2.81-2.81c.8-.78.8-2.07 0-2.86zM5.41 20L4 18.59l7.72-7.72 1.47 1.35L5.41 20z\"/>\n",
              "  </svg>\n",
              "      </button>\n",
              "      \n",
              "  <style>\n",
              "    .colab-df-container {\n",
              "      display:flex;\n",
              "      flex-wrap:wrap;\n",
              "      gap: 12px;\n",
              "    }\n",
              "\n",
              "    .colab-df-convert {\n",
              "      background-color: #E8F0FE;\n",
              "      border: none;\n",
              "      border-radius: 50%;\n",
              "      cursor: pointer;\n",
              "      display: none;\n",
              "      fill: #1967D2;\n",
              "      height: 32px;\n",
              "      padding: 0 0 0 0;\n",
              "      width: 32px;\n",
              "    }\n",
              "\n",
              "    .colab-df-convert:hover {\n",
              "      background-color: #E2EBFA;\n",
              "      box-shadow: 0px 1px 2px rgba(60, 64, 67, 0.3), 0px 1px 3px 1px rgba(60, 64, 67, 0.15);\n",
              "      fill: #174EA6;\n",
              "    }\n",
              "\n",
              "    [theme=dark] .colab-df-convert {\n",
              "      background-color: #3B4455;\n",
              "      fill: #D2E3FC;\n",
              "    }\n",
              "\n",
              "    [theme=dark] .colab-df-convert:hover {\n",
              "      background-color: #434B5C;\n",
              "      box-shadow: 0px 1px 3px 1px rgba(0, 0, 0, 0.15);\n",
              "      filter: drop-shadow(0px 1px 2px rgba(0, 0, 0, 0.3));\n",
              "      fill: #FFFFFF;\n",
              "    }\n",
              "  </style>\n",
              "\n",
              "      <script>\n",
              "        const buttonEl =\n",
              "          document.querySelector('#df-ee0a7111-9b55-42e4-80ca-93c7a3570e7e button.colab-df-convert');\n",
              "        buttonEl.style.display =\n",
              "          google.colab.kernel.accessAllowed ? 'block' : 'none';\n",
              "\n",
              "        async function convertToInteractive(key) {\n",
              "          const element = document.querySelector('#df-ee0a7111-9b55-42e4-80ca-93c7a3570e7e');\n",
              "          const dataTable =\n",
              "            await google.colab.kernel.invokeFunction('convertToInteractive',\n",
              "                                                     [key], {});\n",
              "          if (!dataTable) return;\n",
              "\n",
              "          const docLinkHtml = 'Like what you see? Visit the ' +\n",
              "            '<a target=\"_blank\" href=https://colab.research.google.com/notebooks/data_table.ipynb>data table notebook</a>'\n",
              "            + ' to learn more about interactive tables.';\n",
              "          element.innerHTML = '';\n",
              "          dataTable['output_type'] = 'display_data';\n",
              "          await google.colab.output.renderOutput(dataTable, element);\n",
              "          const docLink = document.createElement('div');\n",
              "          docLink.innerHTML = docLinkHtml;\n",
              "          element.appendChild(docLink);\n",
              "        }\n",
              "      </script>\n",
              "    </div>\n",
              "  </div>\n",
              "  "
            ],
            "text/plain": [
              "            Time        V1        V2  ...       V28  Amount  Class\n",
              "229245  145850.0 -0.386896  0.457732  ...  0.164403   37.91      0\n",
              "129555   79133.0 -1.926447  0.700395  ... -0.007488    1.98      0\n",
              "114013   73300.0 -1.113287  0.674292  ...  0.141013  182.45      0\n",
              "66338    52001.0  1.003141 -1.202190  ...  0.032838  188.07      0\n",
              "62073    50113.0  1.116370 -1.208718  ...  0.000132   60.81      0\n",
              "\n",
              "[5 rows x 31 columns]"
            ]
          },
          "metadata": {},
          "execution_count": 28
        }
      ]
    },
    {
      "cell_type": "code",
      "source": [
        "df_undersample_test['Class'].value_counts()"
      ],
      "metadata": {
        "colab": {
          "base_uri": "https://localhost:8080/"
        },
        "id": "9TSPoEDsEbL3",
        "outputId": "c17e7967-1f62-460b-8479-0d223c564a6b"
      },
      "execution_count": null,
      "outputs": [
        {
          "output_type": "execute_result",
          "data": {
            "text/plain": [
              "1    492\n",
              "0    492\n",
              "Name: Class, dtype: int64"
            ]
          },
          "metadata": {},
          "execution_count": 29
        }
      ]
    },
    {
      "cell_type": "markdown",
      "source": [
        "**Method2: Oversampling**"
      ],
      "metadata": {
        "id": "3QkVNWv8GaXU"
      }
    },
    {
      "cell_type": "code",
      "source": [
        "# Oversample 1-class and concat the DataFrames of both class"
      ],
      "metadata": {
        "id": "0iqpY1wQHCUE"
      },
      "execution_count": null,
      "outputs": []
    },
    {
      "cell_type": "code",
      "source": [
        "df_class_1_over= df_class_1.sample(count_class_0, replace=True)"
      ],
      "metadata": {
        "id": "6o8jcsXwFTxf"
      },
      "execution_count": null,
      "outputs": []
    },
    {
      "cell_type": "code",
      "source": [
        "df_oversample_test= pd.concat([df_class_0, df_class_1_over], axis=0)"
      ],
      "metadata": {
        "id": "RK7a3kltHLyv"
      },
      "execution_count": null,
      "outputs": []
    },
    {
      "cell_type": "code",
      "source": [
        "df_oversample_test['Class'].value_counts()"
      ],
      "metadata": {
        "colab": {
          "base_uri": "https://localhost:8080/"
        },
        "id": "cCscYqDjHmyD",
        "outputId": "bc11b790-5b10-47ec-dab4-7153dabf4e91"
      },
      "execution_count": null,
      "outputs": [
        {
          "output_type": "execute_result",
          "data": {
            "text/plain": [
              "1    284315\n",
              "0    284315\n",
              "Name: Class, dtype: int64"
            ]
          },
          "metadata": {},
          "execution_count": 33
        }
      ]
    },
    {
      "cell_type": "markdown",
      "source": [
        "**Method3: SMOTE (Synthetic Minority Oversampling Technique)**\n",
        "\n",
        "SMOTE works by selecting examples that are close in the feature space, drawing a line between the examples in the feature space and drawing a new sample at a point along that line.\n",
        "\n",
        "Specifically, a random example from the minority class is first chosen. Then k of the nearest neighbors for that example are found (typically k=5). A randomly selected neighbor is chosen and a synthetic example is created at a randomly selected point between the two examples in feature space."
      ],
      "metadata": {
        "id": "YZcP4qDWIrKi"
      }
    },
    {
      "cell_type": "code",
      "source": [
        "X= df.drop('Class',axis=1)\n",
        "y= df['Class']"
      ],
      "metadata": {
        "id": "7Xwl7qeSIXf_"
      },
      "execution_count": null,
      "outputs": []
    },
    {
      "cell_type": "code",
      "source": [
        "y.value_counts()"
      ],
      "metadata": {
        "colab": {
          "base_uri": "https://localhost:8080/"
        },
        "id": "CXc1a6MsFWE_",
        "outputId": "c7dfe43c-db0b-45ad-fc80-4c736478a86a"
      },
      "execution_count": null,
      "outputs": [
        {
          "output_type": "execute_result",
          "data": {
            "text/plain": [
              "0    284315\n",
              "1       492\n",
              "Name: Class, dtype: int64"
            ]
          },
          "metadata": {},
          "execution_count": 42
        }
      ]
    },
    {
      "cell_type": "code",
      "source": [
        "#To install imbalanced-learn library use pip install imbalanced-learn command\n",
        "from imblearn.over_sampling import SMOTE"
      ],
      "metadata": {
        "id": "2WHmIISCD-8C"
      },
      "execution_count": null,
      "outputs": []
    },
    {
      "cell_type": "code",
      "source": [
        "smote= SMOTE(sampling_strategy='minority')\n",
        "\n",
        "X_sm, y_sm= smote.fit_resample(X, y)"
      ],
      "metadata": {
        "id": "v9iCRA_REQag"
      },
      "execution_count": null,
      "outputs": []
    },
    {
      "cell_type": "code",
      "source": [
        "y_sm.value_counts()"
      ],
      "metadata": {
        "colab": {
          "base_uri": "https://localhost:8080/"
        },
        "id": "lK7HIHeHGG-X",
        "outputId": "3994db80-d53f-407a-9fc2-14b97ab002f6"
      },
      "execution_count": null,
      "outputs": [
        {
          "output_type": "execute_result",
          "data": {
            "text/plain": [
              "1    284315\n",
              "0    284315\n",
              "Name: Class, dtype: int64"
            ]
          },
          "metadata": {},
          "execution_count": 46
        }
      ]
    },
    {
      "cell_type": "markdown",
      "source": [
        "**Method4: Use of Ensemble with undersampling**\n",
        "\n"
      ],
      "metadata": {
        "id": "43ZIl3vXGlRb"
      }
    },
    {
      "cell_type": "code",
      "source": [
        "df['Class'].value_counts()"
      ],
      "metadata": {
        "colab": {
          "base_uri": "https://localhost:8080/"
        },
        "id": "iy4hHKDCGY69",
        "outputId": "3d119363-f91c-495c-ae4d-c7ac9237b2ac"
      },
      "execution_count": null,
      "outputs": [
        {
          "output_type": "execute_result",
          "data": {
            "text/plain": [
              "0    284315\n",
              "1       492\n",
              "Name: Class, dtype: int64"
            ]
          },
          "metadata": {},
          "execution_count": 48
        }
      ]
    },
    {
      "cell_type": "code",
      "source": [
        "X= df.drop('Class',axis=1)\n",
        "y= df['Class']"
      ],
      "metadata": {
        "id": "Q2E9bd2KHQLF"
      },
      "execution_count": null,
      "outputs": []
    },
    {
      "cell_type": "code",
      "source": [
        "from sklearn.model_selection import train_test_split\n",
        "X_train, X_test, y_train, y_test = train_test_split(X, y, test_size=0.2, random_state=15, stratify=y)"
      ],
      "metadata": {
        "id": "Ke8JE4tzHTuI"
      },
      "execution_count": null,
      "outputs": []
    },
    {
      "cell_type": "code",
      "source": [
        "y_train.value_counts()"
      ],
      "metadata": {
        "colab": {
          "base_uri": "https://localhost:8080/"
        },
        "id": "By-12rHIHgzf",
        "outputId": "ed8ee7fc-8c8d-40cf-d5d2-4e10aee5ac13"
      },
      "execution_count": null,
      "outputs": [
        {
          "output_type": "execute_result",
          "data": {
            "text/plain": [
              "0    227451\n",
              "1       394\n",
              "Name: Class, dtype: int64"
            ]
          },
          "metadata": {},
          "execution_count": 58
        }
      ]
    },
    {
      "cell_type": "code",
      "source": [
        "#Majority classes will be devided into 577 sub-classes  \n",
        "227451/394"
      ],
      "metadata": {
        "colab": {
          "base_uri": "https://localhost:8080/"
        },
        "id": "dLIVnP0NHilZ",
        "outputId": "c04ad661-05f1-4f73-c780-88e3ebace48d"
      },
      "execution_count": 94,
      "outputs": [
        {
          "output_type": "execute_result",
          "data": {
            "text/plain": [
              "577.2868020304569"
            ]
          },
          "metadata": {},
          "execution_count": 94
        }
      ]
    },
    {
      "cell_type": "code",
      "source": [
        "#Each Sub-class will have around 394 datapoints\n",
        "227451/578"
      ],
      "metadata": {
        "colab": {
          "base_uri": "https://localhost:8080/"
        },
        "id": "If-Xwj9jHsc2",
        "outputId": "32e4196c-4b14-4e8c-c5e6-caccfeab20e4"
      },
      "execution_count": 95,
      "outputs": [
        {
          "output_type": "execute_result",
          "data": {
            "text/plain": [
              "393.51384083044985"
            ]
          },
          "metadata": {},
          "execution_count": 95
        }
      ]
    },
    {
      "cell_type": "code",
      "source": [
        "df_class_0= df[df['Class']==0]\n",
        "df_class_1= df[df['Class']==1]"
      ],
      "metadata": {
        "id": "agtasAkRIH5H"
      },
      "execution_count": null,
      "outputs": []
    },
    {
      "cell_type": "code",
      "source": [
        "df_class_0.shape, df_class_1.shape"
      ],
      "metadata": {
        "colab": {
          "base_uri": "https://localhost:8080/"
        },
        "id": "LfQKJtJzIcot",
        "outputId": "df21597e-cc9a-47a1-f6f0-8b063c5ac03a"
      },
      "execution_count": null,
      "outputs": [
        {
          "output_type": "execute_result",
          "data": {
            "text/plain": [
              "((284315, 31), (492, 31))"
            ]
          },
          "metadata": {},
          "execution_count": 63
        }
      ]
    },
    {
      "cell_type": "code",
      "source": [
        "def get_train_batch(df_majority, df_minority, start, end):  \n",
        "  df_train= pd.concat([df_majority[start:end], df_minority], axis=0)\n",
        "  X_train= df_train.drop('Class', axis=1)\n",
        "  y_train= df_train['Class']\n",
        "  return X_train, y_train"
      ],
      "metadata": {
        "id": "UIjpQ9YfIspq"
      },
      "execution_count": 79,
      "outputs": []
    },
    {
      "cell_type": "code",
      "source": [
        "X_train, y_train= get_train_batch(df_class_0, df_class_1, 0, 492)"
      ],
      "metadata": {
        "id": "SMysXBU6KssW"
      },
      "execution_count": 80,
      "outputs": []
    },
    {
      "cell_type": "code",
      "source": [
        "X_train.shape, y_train.shape"
      ],
      "metadata": {
        "colab": {
          "base_uri": "https://localhost:8080/"
        },
        "id": "_01bK5ITNbFt",
        "outputId": "df1883ca-6f9c-4683-f4ab-3e0158f63d4e"
      },
      "execution_count": 81,
      "outputs": [
        {
          "output_type": "execute_result",
          "data": {
            "text/plain": [
              "((984, 30), (984,))"
            ]
          },
          "metadata": {},
          "execution_count": 81
        }
      ]
    },
    {
      "cell_type": "code",
      "source": [
        "for i in range(0,284315,492):\n",
        "  df_train= pd.concat([df_class_0[i:i+492], df_class_1], axis=0)\n",
        "  X_train= df_train.drop('Class', axis=1)\n",
        "  y_train= df_train['Class']\n",
        "  i+=492\n",
        "  print(X_train.shape, y_train.shape, i, df_train.shape)"
      ],
      "metadata": {
        "colab": {
          "base_uri": "https://localhost:8080/"
        },
        "id": "JmYTxRAYM9jR",
        "outputId": "15e3fbe2-8165-487d-c78c-2a1a84229264"
      },
      "execution_count": 105,
      "outputs": [
        {
          "output_type": "stream",
          "name": "stdout",
          "text": [
            "(984, 30) (984,) 492 (984, 31)\n",
            "(984, 30) (984,) 984 (984, 31)\n",
            "(984, 30) (984,) 1476 (984, 31)\n",
            "(984, 30) (984,) 1968 (984, 31)\n",
            "(984, 30) (984,) 2460 (984, 31)\n",
            "(984, 30) (984,) 2952 (984, 31)\n",
            "(984, 30) (984,) 3444 (984, 31)\n",
            "(984, 30) (984,) 3936 (984, 31)\n",
            "(984, 30) (984,) 4428 (984, 31)\n",
            "(984, 30) (984,) 4920 (984, 31)\n",
            "(984, 30) (984,) 5412 (984, 31)\n",
            "(984, 30) (984,) 5904 (984, 31)\n",
            "(984, 30) (984,) 6396 (984, 31)\n",
            "(984, 30) (984,) 6888 (984, 31)\n",
            "(984, 30) (984,) 7380 (984, 31)\n",
            "(984, 30) (984,) 7872 (984, 31)\n",
            "(984, 30) (984,) 8364 (984, 31)\n",
            "(984, 30) (984,) 8856 (984, 31)\n",
            "(984, 30) (984,) 9348 (984, 31)\n",
            "(984, 30) (984,) 9840 (984, 31)\n",
            "(984, 30) (984,) 10332 (984, 31)\n",
            "(984, 30) (984,) 10824 (984, 31)\n",
            "(984, 30) (984,) 11316 (984, 31)\n",
            "(984, 30) (984,) 11808 (984, 31)\n",
            "(984, 30) (984,) 12300 (984, 31)\n",
            "(984, 30) (984,) 12792 (984, 31)\n",
            "(984, 30) (984,) 13284 (984, 31)\n",
            "(984, 30) (984,) 13776 (984, 31)\n",
            "(984, 30) (984,) 14268 (984, 31)\n",
            "(984, 30) (984,) 14760 (984, 31)\n",
            "(984, 30) (984,) 15252 (984, 31)\n",
            "(984, 30) (984,) 15744 (984, 31)\n",
            "(984, 30) (984,) 16236 (984, 31)\n",
            "(984, 30) (984,) 16728 (984, 31)\n",
            "(984, 30) (984,) 17220 (984, 31)\n",
            "(984, 30) (984,) 17712 (984, 31)\n",
            "(984, 30) (984,) 18204 (984, 31)\n",
            "(984, 30) (984,) 18696 (984, 31)\n",
            "(984, 30) (984,) 19188 (984, 31)\n",
            "(984, 30) (984,) 19680 (984, 31)\n",
            "(984, 30) (984,) 20172 (984, 31)\n",
            "(984, 30) (984,) 20664 (984, 31)\n",
            "(984, 30) (984,) 21156 (984, 31)\n",
            "(984, 30) (984,) 21648 (984, 31)\n",
            "(984, 30) (984,) 22140 (984, 31)\n",
            "(984, 30) (984,) 22632 (984, 31)\n",
            "(984, 30) (984,) 23124 (984, 31)\n",
            "(984, 30) (984,) 23616 (984, 31)\n",
            "(984, 30) (984,) 24108 (984, 31)\n",
            "(984, 30) (984,) 24600 (984, 31)\n",
            "(984, 30) (984,) 25092 (984, 31)\n",
            "(984, 30) (984,) 25584 (984, 31)\n",
            "(984, 30) (984,) 26076 (984, 31)\n",
            "(984, 30) (984,) 26568 (984, 31)\n",
            "(984, 30) (984,) 27060 (984, 31)\n",
            "(984, 30) (984,) 27552 (984, 31)\n",
            "(984, 30) (984,) 28044 (984, 31)\n",
            "(984, 30) (984,) 28536 (984, 31)\n",
            "(984, 30) (984,) 29028 (984, 31)\n",
            "(984, 30) (984,) 29520 (984, 31)\n",
            "(984, 30) (984,) 30012 (984, 31)\n",
            "(984, 30) (984,) 30504 (984, 31)\n",
            "(984, 30) (984,) 30996 (984, 31)\n",
            "(984, 30) (984,) 31488 (984, 31)\n",
            "(984, 30) (984,) 31980 (984, 31)\n",
            "(984, 30) (984,) 32472 (984, 31)\n",
            "(984, 30) (984,) 32964 (984, 31)\n",
            "(984, 30) (984,) 33456 (984, 31)\n",
            "(984, 30) (984,) 33948 (984, 31)\n",
            "(984, 30) (984,) 34440 (984, 31)\n",
            "(984, 30) (984,) 34932 (984, 31)\n",
            "(984, 30) (984,) 35424 (984, 31)\n",
            "(984, 30) (984,) 35916 (984, 31)\n",
            "(984, 30) (984,) 36408 (984, 31)\n",
            "(984, 30) (984,) 36900 (984, 31)\n",
            "(984, 30) (984,) 37392 (984, 31)\n",
            "(984, 30) (984,) 37884 (984, 31)\n",
            "(984, 30) (984,) 38376 (984, 31)\n",
            "(984, 30) (984,) 38868 (984, 31)\n",
            "(984, 30) (984,) 39360 (984, 31)\n",
            "(984, 30) (984,) 39852 (984, 31)\n",
            "(984, 30) (984,) 40344 (984, 31)\n",
            "(984, 30) (984,) 40836 (984, 31)\n",
            "(984, 30) (984,) 41328 (984, 31)\n",
            "(984, 30) (984,) 41820 (984, 31)\n",
            "(984, 30) (984,) 42312 (984, 31)\n",
            "(984, 30) (984,) 42804 (984, 31)\n",
            "(984, 30) (984,) 43296 (984, 31)\n",
            "(984, 30) (984,) 43788 (984, 31)\n",
            "(984, 30) (984,) 44280 (984, 31)\n",
            "(984, 30) (984,) 44772 (984, 31)\n",
            "(984, 30) (984,) 45264 (984, 31)\n",
            "(984, 30) (984,) 45756 (984, 31)\n",
            "(984, 30) (984,) 46248 (984, 31)\n",
            "(984, 30) (984,) 46740 (984, 31)\n",
            "(984, 30) (984,) 47232 (984, 31)\n",
            "(984, 30) (984,) 47724 (984, 31)\n",
            "(984, 30) (984,) 48216 (984, 31)\n",
            "(984, 30) (984,) 48708 (984, 31)\n",
            "(984, 30) (984,) 49200 (984, 31)\n",
            "(984, 30) (984,) 49692 (984, 31)\n",
            "(984, 30) (984,) 50184 (984, 31)\n",
            "(984, 30) (984,) 50676 (984, 31)\n",
            "(984, 30) (984,) 51168 (984, 31)\n",
            "(984, 30) (984,) 51660 (984, 31)\n",
            "(984, 30) (984,) 52152 (984, 31)\n",
            "(984, 30) (984,) 52644 (984, 31)\n",
            "(984, 30) (984,) 53136 (984, 31)\n",
            "(984, 30) (984,) 53628 (984, 31)\n",
            "(984, 30) (984,) 54120 (984, 31)\n",
            "(984, 30) (984,) 54612 (984, 31)\n",
            "(984, 30) (984,) 55104 (984, 31)\n",
            "(984, 30) (984,) 55596 (984, 31)\n",
            "(984, 30) (984,) 56088 (984, 31)\n",
            "(984, 30) (984,) 56580 (984, 31)\n",
            "(984, 30) (984,) 57072 (984, 31)\n",
            "(984, 30) (984,) 57564 (984, 31)\n",
            "(984, 30) (984,) 58056 (984, 31)\n",
            "(984, 30) (984,) 58548 (984, 31)\n",
            "(984, 30) (984,) 59040 (984, 31)\n",
            "(984, 30) (984,) 59532 (984, 31)\n",
            "(984, 30) (984,) 60024 (984, 31)\n",
            "(984, 30) (984,) 60516 (984, 31)\n",
            "(984, 30) (984,) 61008 (984, 31)\n",
            "(984, 30) (984,) 61500 (984, 31)\n",
            "(984, 30) (984,) 61992 (984, 31)\n",
            "(984, 30) (984,) 62484 (984, 31)\n",
            "(984, 30) (984,) 62976 (984, 31)\n",
            "(984, 30) (984,) 63468 (984, 31)\n",
            "(984, 30) (984,) 63960 (984, 31)\n",
            "(984, 30) (984,) 64452 (984, 31)\n",
            "(984, 30) (984,) 64944 (984, 31)\n",
            "(984, 30) (984,) 65436 (984, 31)\n",
            "(984, 30) (984,) 65928 (984, 31)\n",
            "(984, 30) (984,) 66420 (984, 31)\n",
            "(984, 30) (984,) 66912 (984, 31)\n",
            "(984, 30) (984,) 67404 (984, 31)\n",
            "(984, 30) (984,) 67896 (984, 31)\n",
            "(984, 30) (984,) 68388 (984, 31)\n",
            "(984, 30) (984,) 68880 (984, 31)\n",
            "(984, 30) (984,) 69372 (984, 31)\n",
            "(984, 30) (984,) 69864 (984, 31)\n",
            "(984, 30) (984,) 70356 (984, 31)\n",
            "(984, 30) (984,) 70848 (984, 31)\n",
            "(984, 30) (984,) 71340 (984, 31)\n",
            "(984, 30) (984,) 71832 (984, 31)\n",
            "(984, 30) (984,) 72324 (984, 31)\n",
            "(984, 30) (984,) 72816 (984, 31)\n",
            "(984, 30) (984,) 73308 (984, 31)\n",
            "(984, 30) (984,) 73800 (984, 31)\n",
            "(984, 30) (984,) 74292 (984, 31)\n",
            "(984, 30) (984,) 74784 (984, 31)\n",
            "(984, 30) (984,) 75276 (984, 31)\n",
            "(984, 30) (984,) 75768 (984, 31)\n",
            "(984, 30) (984,) 76260 (984, 31)\n",
            "(984, 30) (984,) 76752 (984, 31)\n",
            "(984, 30) (984,) 77244 (984, 31)\n",
            "(984, 30) (984,) 77736 (984, 31)\n",
            "(984, 30) (984,) 78228 (984, 31)\n",
            "(984, 30) (984,) 78720 (984, 31)\n",
            "(984, 30) (984,) 79212 (984, 31)\n",
            "(984, 30) (984,) 79704 (984, 31)\n",
            "(984, 30) (984,) 80196 (984, 31)\n",
            "(984, 30) (984,) 80688 (984, 31)\n",
            "(984, 30) (984,) 81180 (984, 31)\n",
            "(984, 30) (984,) 81672 (984, 31)\n",
            "(984, 30) (984,) 82164 (984, 31)\n",
            "(984, 30) (984,) 82656 (984, 31)\n",
            "(984, 30) (984,) 83148 (984, 31)\n",
            "(984, 30) (984,) 83640 (984, 31)\n",
            "(984, 30) (984,) 84132 (984, 31)\n",
            "(984, 30) (984,) 84624 (984, 31)\n",
            "(984, 30) (984,) 85116 (984, 31)\n",
            "(984, 30) (984,) 85608 (984, 31)\n",
            "(984, 30) (984,) 86100 (984, 31)\n",
            "(984, 30) (984,) 86592 (984, 31)\n",
            "(984, 30) (984,) 87084 (984, 31)\n",
            "(984, 30) (984,) 87576 (984, 31)\n",
            "(984, 30) (984,) 88068 (984, 31)\n",
            "(984, 30) (984,) 88560 (984, 31)\n",
            "(984, 30) (984,) 89052 (984, 31)\n",
            "(984, 30) (984,) 89544 (984, 31)\n",
            "(984, 30) (984,) 90036 (984, 31)\n",
            "(984, 30) (984,) 90528 (984, 31)\n",
            "(984, 30) (984,) 91020 (984, 31)\n",
            "(984, 30) (984,) 91512 (984, 31)\n",
            "(984, 30) (984,) 92004 (984, 31)\n",
            "(984, 30) (984,) 92496 (984, 31)\n",
            "(984, 30) (984,) 92988 (984, 31)\n",
            "(984, 30) (984,) 93480 (984, 31)\n",
            "(984, 30) (984,) 93972 (984, 31)\n",
            "(984, 30) (984,) 94464 (984, 31)\n",
            "(984, 30) (984,) 94956 (984, 31)\n",
            "(984, 30) (984,) 95448 (984, 31)\n",
            "(984, 30) (984,) 95940 (984, 31)\n",
            "(984, 30) (984,) 96432 (984, 31)\n",
            "(984, 30) (984,) 96924 (984, 31)\n",
            "(984, 30) (984,) 97416 (984, 31)\n",
            "(984, 30) (984,) 97908 (984, 31)\n",
            "(984, 30) (984,) 98400 (984, 31)\n",
            "(984, 30) (984,) 98892 (984, 31)\n",
            "(984, 30) (984,) 99384 (984, 31)\n",
            "(984, 30) (984,) 99876 (984, 31)\n",
            "(984, 30) (984,) 100368 (984, 31)\n",
            "(984, 30) (984,) 100860 (984, 31)\n",
            "(984, 30) (984,) 101352 (984, 31)\n",
            "(984, 30) (984,) 101844 (984, 31)\n",
            "(984, 30) (984,) 102336 (984, 31)\n",
            "(984, 30) (984,) 102828 (984, 31)\n",
            "(984, 30) (984,) 103320 (984, 31)\n",
            "(984, 30) (984,) 103812 (984, 31)\n",
            "(984, 30) (984,) 104304 (984, 31)\n",
            "(984, 30) (984,) 104796 (984, 31)\n",
            "(984, 30) (984,) 105288 (984, 31)\n",
            "(984, 30) (984,) 105780 (984, 31)\n",
            "(984, 30) (984,) 106272 (984, 31)\n",
            "(984, 30) (984,) 106764 (984, 31)\n",
            "(984, 30) (984,) 107256 (984, 31)\n",
            "(984, 30) (984,) 107748 (984, 31)\n",
            "(984, 30) (984,) 108240 (984, 31)\n",
            "(984, 30) (984,) 108732 (984, 31)\n",
            "(984, 30) (984,) 109224 (984, 31)\n",
            "(984, 30) (984,) 109716 (984, 31)\n",
            "(984, 30) (984,) 110208 (984, 31)\n",
            "(984, 30) (984,) 110700 (984, 31)\n",
            "(984, 30) (984,) 111192 (984, 31)\n",
            "(984, 30) (984,) 111684 (984, 31)\n",
            "(984, 30) (984,) 112176 (984, 31)\n",
            "(984, 30) (984,) 112668 (984, 31)\n",
            "(984, 30) (984,) 113160 (984, 31)\n",
            "(984, 30) (984,) 113652 (984, 31)\n",
            "(984, 30) (984,) 114144 (984, 31)\n",
            "(984, 30) (984,) 114636 (984, 31)\n",
            "(984, 30) (984,) 115128 (984, 31)\n",
            "(984, 30) (984,) 115620 (984, 31)\n",
            "(984, 30) (984,) 116112 (984, 31)\n",
            "(984, 30) (984,) 116604 (984, 31)\n",
            "(984, 30) (984,) 117096 (984, 31)\n",
            "(984, 30) (984,) 117588 (984, 31)\n",
            "(984, 30) (984,) 118080 (984, 31)\n",
            "(984, 30) (984,) 118572 (984, 31)\n",
            "(984, 30) (984,) 119064 (984, 31)\n",
            "(984, 30) (984,) 119556 (984, 31)\n",
            "(984, 30) (984,) 120048 (984, 31)\n",
            "(984, 30) (984,) 120540 (984, 31)\n",
            "(984, 30) (984,) 121032 (984, 31)\n",
            "(984, 30) (984,) 121524 (984, 31)\n",
            "(984, 30) (984,) 122016 (984, 31)\n",
            "(984, 30) (984,) 122508 (984, 31)\n",
            "(984, 30) (984,) 123000 (984, 31)\n",
            "(984, 30) (984,) 123492 (984, 31)\n",
            "(984, 30) (984,) 123984 (984, 31)\n",
            "(984, 30) (984,) 124476 (984, 31)\n",
            "(984, 30) (984,) 124968 (984, 31)\n",
            "(984, 30) (984,) 125460 (984, 31)\n",
            "(984, 30) (984,) 125952 (984, 31)\n",
            "(984, 30) (984,) 126444 (984, 31)\n",
            "(984, 30) (984,) 126936 (984, 31)\n",
            "(984, 30) (984,) 127428 (984, 31)\n",
            "(984, 30) (984,) 127920 (984, 31)\n",
            "(984, 30) (984,) 128412 (984, 31)\n",
            "(984, 30) (984,) 128904 (984, 31)\n",
            "(984, 30) (984,) 129396 (984, 31)\n",
            "(984, 30) (984,) 129888 (984, 31)\n",
            "(984, 30) (984,) 130380 (984, 31)\n",
            "(984, 30) (984,) 130872 (984, 31)\n",
            "(984, 30) (984,) 131364 (984, 31)\n",
            "(984, 30) (984,) 131856 (984, 31)\n",
            "(984, 30) (984,) 132348 (984, 31)\n",
            "(984, 30) (984,) 132840 (984, 31)\n",
            "(984, 30) (984,) 133332 (984, 31)\n",
            "(984, 30) (984,) 133824 (984, 31)\n",
            "(984, 30) (984,) 134316 (984, 31)\n",
            "(984, 30) (984,) 134808 (984, 31)\n",
            "(984, 30) (984,) 135300 (984, 31)\n",
            "(984, 30) (984,) 135792 (984, 31)\n",
            "(984, 30) (984,) 136284 (984, 31)\n",
            "(984, 30) (984,) 136776 (984, 31)\n",
            "(984, 30) (984,) 137268 (984, 31)\n",
            "(984, 30) (984,) 137760 (984, 31)\n",
            "(984, 30) (984,) 138252 (984, 31)\n",
            "(984, 30) (984,) 138744 (984, 31)\n",
            "(984, 30) (984,) 139236 (984, 31)\n",
            "(984, 30) (984,) 139728 (984, 31)\n",
            "(984, 30) (984,) 140220 (984, 31)\n",
            "(984, 30) (984,) 140712 (984, 31)\n",
            "(984, 30) (984,) 141204 (984, 31)\n",
            "(984, 30) (984,) 141696 (984, 31)\n",
            "(984, 30) (984,) 142188 (984, 31)\n",
            "(984, 30) (984,) 142680 (984, 31)\n",
            "(984, 30) (984,) 143172 (984, 31)\n",
            "(984, 30) (984,) 143664 (984, 31)\n",
            "(984, 30) (984,) 144156 (984, 31)\n",
            "(984, 30) (984,) 144648 (984, 31)\n",
            "(984, 30) (984,) 145140 (984, 31)\n",
            "(984, 30) (984,) 145632 (984, 31)\n",
            "(984, 30) (984,) 146124 (984, 31)\n",
            "(984, 30) (984,) 146616 (984, 31)\n",
            "(984, 30) (984,) 147108 (984, 31)\n",
            "(984, 30) (984,) 147600 (984, 31)\n",
            "(984, 30) (984,) 148092 (984, 31)\n",
            "(984, 30) (984,) 148584 (984, 31)\n",
            "(984, 30) (984,) 149076 (984, 31)\n",
            "(984, 30) (984,) 149568 (984, 31)\n",
            "(984, 30) (984,) 150060 (984, 31)\n",
            "(984, 30) (984,) 150552 (984, 31)\n",
            "(984, 30) (984,) 151044 (984, 31)\n",
            "(984, 30) (984,) 151536 (984, 31)\n",
            "(984, 30) (984,) 152028 (984, 31)\n",
            "(984, 30) (984,) 152520 (984, 31)\n",
            "(984, 30) (984,) 153012 (984, 31)\n",
            "(984, 30) (984,) 153504 (984, 31)\n",
            "(984, 30) (984,) 153996 (984, 31)\n",
            "(984, 30) (984,) 154488 (984, 31)\n",
            "(984, 30) (984,) 154980 (984, 31)\n",
            "(984, 30) (984,) 155472 (984, 31)\n",
            "(984, 30) (984,) 155964 (984, 31)\n",
            "(984, 30) (984,) 156456 (984, 31)\n",
            "(984, 30) (984,) 156948 (984, 31)\n",
            "(984, 30) (984,) 157440 (984, 31)\n",
            "(984, 30) (984,) 157932 (984, 31)\n",
            "(984, 30) (984,) 158424 (984, 31)\n",
            "(984, 30) (984,) 158916 (984, 31)\n",
            "(984, 30) (984,) 159408 (984, 31)\n",
            "(984, 30) (984,) 159900 (984, 31)\n",
            "(984, 30) (984,) 160392 (984, 31)\n",
            "(984, 30) (984,) 160884 (984, 31)\n",
            "(984, 30) (984,) 161376 (984, 31)\n",
            "(984, 30) (984,) 161868 (984, 31)\n",
            "(984, 30) (984,) 162360 (984, 31)\n",
            "(984, 30) (984,) 162852 (984, 31)\n",
            "(984, 30) (984,) 163344 (984, 31)\n",
            "(984, 30) (984,) 163836 (984, 31)\n",
            "(984, 30) (984,) 164328 (984, 31)\n",
            "(984, 30) (984,) 164820 (984, 31)\n",
            "(984, 30) (984,) 165312 (984, 31)\n",
            "(984, 30) (984,) 165804 (984, 31)\n",
            "(984, 30) (984,) 166296 (984, 31)\n",
            "(984, 30) (984,) 166788 (984, 31)\n",
            "(984, 30) (984,) 167280 (984, 31)\n",
            "(984, 30) (984,) 167772 (984, 31)\n",
            "(984, 30) (984,) 168264 (984, 31)\n",
            "(984, 30) (984,) 168756 (984, 31)\n",
            "(984, 30) (984,) 169248 (984, 31)\n",
            "(984, 30) (984,) 169740 (984, 31)\n",
            "(984, 30) (984,) 170232 (984, 31)\n",
            "(984, 30) (984,) 170724 (984, 31)\n",
            "(984, 30) (984,) 171216 (984, 31)\n",
            "(984, 30) (984,) 171708 (984, 31)\n",
            "(984, 30) (984,) 172200 (984, 31)\n",
            "(984, 30) (984,) 172692 (984, 31)\n",
            "(984, 30) (984,) 173184 (984, 31)\n",
            "(984, 30) (984,) 173676 (984, 31)\n",
            "(984, 30) (984,) 174168 (984, 31)\n",
            "(984, 30) (984,) 174660 (984, 31)\n",
            "(984, 30) (984,) 175152 (984, 31)\n",
            "(984, 30) (984,) 175644 (984, 31)\n",
            "(984, 30) (984,) 176136 (984, 31)\n",
            "(984, 30) (984,) 176628 (984, 31)\n",
            "(984, 30) (984,) 177120 (984, 31)\n",
            "(984, 30) (984,) 177612 (984, 31)\n",
            "(984, 30) (984,) 178104 (984, 31)\n",
            "(984, 30) (984,) 178596 (984, 31)\n",
            "(984, 30) (984,) 179088 (984, 31)\n",
            "(984, 30) (984,) 179580 (984, 31)\n",
            "(984, 30) (984,) 180072 (984, 31)\n",
            "(984, 30) (984,) 180564 (984, 31)\n",
            "(984, 30) (984,) 181056 (984, 31)\n",
            "(984, 30) (984,) 181548 (984, 31)\n",
            "(984, 30) (984,) 182040 (984, 31)\n",
            "(984, 30) (984,) 182532 (984, 31)\n",
            "(984, 30) (984,) 183024 (984, 31)\n",
            "(984, 30) (984,) 183516 (984, 31)\n",
            "(984, 30) (984,) 184008 (984, 31)\n",
            "(984, 30) (984,) 184500 (984, 31)\n",
            "(984, 30) (984,) 184992 (984, 31)\n",
            "(984, 30) (984,) 185484 (984, 31)\n",
            "(984, 30) (984,) 185976 (984, 31)\n",
            "(984, 30) (984,) 186468 (984, 31)\n",
            "(984, 30) (984,) 186960 (984, 31)\n",
            "(984, 30) (984,) 187452 (984, 31)\n",
            "(984, 30) (984,) 187944 (984, 31)\n",
            "(984, 30) (984,) 188436 (984, 31)\n",
            "(984, 30) (984,) 188928 (984, 31)\n",
            "(984, 30) (984,) 189420 (984, 31)\n",
            "(984, 30) (984,) 189912 (984, 31)\n",
            "(984, 30) (984,) 190404 (984, 31)\n",
            "(984, 30) (984,) 190896 (984, 31)\n",
            "(984, 30) (984,) 191388 (984, 31)\n",
            "(984, 30) (984,) 191880 (984, 31)\n",
            "(984, 30) (984,) 192372 (984, 31)\n",
            "(984, 30) (984,) 192864 (984, 31)\n",
            "(984, 30) (984,) 193356 (984, 31)\n",
            "(984, 30) (984,) 193848 (984, 31)\n",
            "(984, 30) (984,) 194340 (984, 31)\n",
            "(984, 30) (984,) 194832 (984, 31)\n",
            "(984, 30) (984,) 195324 (984, 31)\n",
            "(984, 30) (984,) 195816 (984, 31)\n",
            "(984, 30) (984,) 196308 (984, 31)\n",
            "(984, 30) (984,) 196800 (984, 31)\n",
            "(984, 30) (984,) 197292 (984, 31)\n",
            "(984, 30) (984,) 197784 (984, 31)\n",
            "(984, 30) (984,) 198276 (984, 31)\n",
            "(984, 30) (984,) 198768 (984, 31)\n",
            "(984, 30) (984,) 199260 (984, 31)\n",
            "(984, 30) (984,) 199752 (984, 31)\n",
            "(984, 30) (984,) 200244 (984, 31)\n",
            "(984, 30) (984,) 200736 (984, 31)\n",
            "(984, 30) (984,) 201228 (984, 31)\n",
            "(984, 30) (984,) 201720 (984, 31)\n",
            "(984, 30) (984,) 202212 (984, 31)\n",
            "(984, 30) (984,) 202704 (984, 31)\n",
            "(984, 30) (984,) 203196 (984, 31)\n",
            "(984, 30) (984,) 203688 (984, 31)\n",
            "(984, 30) (984,) 204180 (984, 31)\n",
            "(984, 30) (984,) 204672 (984, 31)\n",
            "(984, 30) (984,) 205164 (984, 31)\n",
            "(984, 30) (984,) 205656 (984, 31)\n",
            "(984, 30) (984,) 206148 (984, 31)\n",
            "(984, 30) (984,) 206640 (984, 31)\n",
            "(984, 30) (984,) 207132 (984, 31)\n",
            "(984, 30) (984,) 207624 (984, 31)\n",
            "(984, 30) (984,) 208116 (984, 31)\n",
            "(984, 30) (984,) 208608 (984, 31)\n",
            "(984, 30) (984,) 209100 (984, 31)\n",
            "(984, 30) (984,) 209592 (984, 31)\n",
            "(984, 30) (984,) 210084 (984, 31)\n",
            "(984, 30) (984,) 210576 (984, 31)\n",
            "(984, 30) (984,) 211068 (984, 31)\n",
            "(984, 30) (984,) 211560 (984, 31)\n",
            "(984, 30) (984,) 212052 (984, 31)\n",
            "(984, 30) (984,) 212544 (984, 31)\n",
            "(984, 30) (984,) 213036 (984, 31)\n",
            "(984, 30) (984,) 213528 (984, 31)\n",
            "(984, 30) (984,) 214020 (984, 31)\n",
            "(984, 30) (984,) 214512 (984, 31)\n",
            "(984, 30) (984,) 215004 (984, 31)\n",
            "(984, 30) (984,) 215496 (984, 31)\n",
            "(984, 30) (984,) 215988 (984, 31)\n",
            "(984, 30) (984,) 216480 (984, 31)\n",
            "(984, 30) (984,) 216972 (984, 31)\n",
            "(984, 30) (984,) 217464 (984, 31)\n",
            "(984, 30) (984,) 217956 (984, 31)\n",
            "(984, 30) (984,) 218448 (984, 31)\n",
            "(984, 30) (984,) 218940 (984, 31)\n",
            "(984, 30) (984,) 219432 (984, 31)\n",
            "(984, 30) (984,) 219924 (984, 31)\n",
            "(984, 30) (984,) 220416 (984, 31)\n",
            "(984, 30) (984,) 220908 (984, 31)\n",
            "(984, 30) (984,) 221400 (984, 31)\n",
            "(984, 30) (984,) 221892 (984, 31)\n",
            "(984, 30) (984,) 222384 (984, 31)\n",
            "(984, 30) (984,) 222876 (984, 31)\n",
            "(984, 30) (984,) 223368 (984, 31)\n",
            "(984, 30) (984,) 223860 (984, 31)\n",
            "(984, 30) (984,) 224352 (984, 31)\n",
            "(984, 30) (984,) 224844 (984, 31)\n",
            "(984, 30) (984,) 225336 (984, 31)\n",
            "(984, 30) (984,) 225828 (984, 31)\n",
            "(984, 30) (984,) 226320 (984, 31)\n",
            "(984, 30) (984,) 226812 (984, 31)\n",
            "(984, 30) (984,) 227304 (984, 31)\n",
            "(984, 30) (984,) 227796 (984, 31)\n",
            "(984, 30) (984,) 228288 (984, 31)\n",
            "(984, 30) (984,) 228780 (984, 31)\n",
            "(984, 30) (984,) 229272 (984, 31)\n",
            "(984, 30) (984,) 229764 (984, 31)\n",
            "(984, 30) (984,) 230256 (984, 31)\n",
            "(984, 30) (984,) 230748 (984, 31)\n",
            "(984, 30) (984,) 231240 (984, 31)\n",
            "(984, 30) (984,) 231732 (984, 31)\n",
            "(984, 30) (984,) 232224 (984, 31)\n",
            "(984, 30) (984,) 232716 (984, 31)\n",
            "(984, 30) (984,) 233208 (984, 31)\n",
            "(984, 30) (984,) 233700 (984, 31)\n",
            "(984, 30) (984,) 234192 (984, 31)\n",
            "(984, 30) (984,) 234684 (984, 31)\n",
            "(984, 30) (984,) 235176 (984, 31)\n",
            "(984, 30) (984,) 235668 (984, 31)\n",
            "(984, 30) (984,) 236160 (984, 31)\n",
            "(984, 30) (984,) 236652 (984, 31)\n",
            "(984, 30) (984,) 237144 (984, 31)\n",
            "(984, 30) (984,) 237636 (984, 31)\n",
            "(984, 30) (984,) 238128 (984, 31)\n",
            "(984, 30) (984,) 238620 (984, 31)\n",
            "(984, 30) (984,) 239112 (984, 31)\n",
            "(984, 30) (984,) 239604 (984, 31)\n",
            "(984, 30) (984,) 240096 (984, 31)\n",
            "(984, 30) (984,) 240588 (984, 31)\n",
            "(984, 30) (984,) 241080 (984, 31)\n",
            "(984, 30) (984,) 241572 (984, 31)\n",
            "(984, 30) (984,) 242064 (984, 31)\n",
            "(984, 30) (984,) 242556 (984, 31)\n",
            "(984, 30) (984,) 243048 (984, 31)\n",
            "(984, 30) (984,) 243540 (984, 31)\n",
            "(984, 30) (984,) 244032 (984, 31)\n",
            "(984, 30) (984,) 244524 (984, 31)\n",
            "(984, 30) (984,) 245016 (984, 31)\n",
            "(984, 30) (984,) 245508 (984, 31)\n",
            "(984, 30) (984,) 246000 (984, 31)\n",
            "(984, 30) (984,) 246492 (984, 31)\n",
            "(984, 30) (984,) 246984 (984, 31)\n",
            "(984, 30) (984,) 247476 (984, 31)\n",
            "(984, 30) (984,) 247968 (984, 31)\n",
            "(984, 30) (984,) 248460 (984, 31)\n",
            "(984, 30) (984,) 248952 (984, 31)\n",
            "(984, 30) (984,) 249444 (984, 31)\n",
            "(984, 30) (984,) 249936 (984, 31)\n",
            "(984, 30) (984,) 250428 (984, 31)\n",
            "(984, 30) (984,) 250920 (984, 31)\n",
            "(984, 30) (984,) 251412 (984, 31)\n",
            "(984, 30) (984,) 251904 (984, 31)\n",
            "(984, 30) (984,) 252396 (984, 31)\n",
            "(984, 30) (984,) 252888 (984, 31)\n",
            "(984, 30) (984,) 253380 (984, 31)\n",
            "(984, 30) (984,) 253872 (984, 31)\n",
            "(984, 30) (984,) 254364 (984, 31)\n",
            "(984, 30) (984,) 254856 (984, 31)\n",
            "(984, 30) (984,) 255348 (984, 31)\n",
            "(984, 30) (984,) 255840 (984, 31)\n",
            "(984, 30) (984,) 256332 (984, 31)\n",
            "(984, 30) (984,) 256824 (984, 31)\n",
            "(984, 30) (984,) 257316 (984, 31)\n",
            "(984, 30) (984,) 257808 (984, 31)\n",
            "(984, 30) (984,) 258300 (984, 31)\n",
            "(984, 30) (984,) 258792 (984, 31)\n",
            "(984, 30) (984,) 259284 (984, 31)\n",
            "(984, 30) (984,) 259776 (984, 31)\n",
            "(984, 30) (984,) 260268 (984, 31)\n",
            "(984, 30) (984,) 260760 (984, 31)\n",
            "(984, 30) (984,) 261252 (984, 31)\n",
            "(984, 30) (984,) 261744 (984, 31)\n",
            "(984, 30) (984,) 262236 (984, 31)\n",
            "(984, 30) (984,) 262728 (984, 31)\n",
            "(984, 30) (984,) 263220 (984, 31)\n",
            "(984, 30) (984,) 263712 (984, 31)\n",
            "(984, 30) (984,) 264204 (984, 31)\n",
            "(984, 30) (984,) 264696 (984, 31)\n",
            "(984, 30) (984,) 265188 (984, 31)\n",
            "(984, 30) (984,) 265680 (984, 31)\n",
            "(984, 30) (984,) 266172 (984, 31)\n",
            "(984, 30) (984,) 266664 (984, 31)\n",
            "(984, 30) (984,) 267156 (984, 31)\n",
            "(984, 30) (984,) 267648 (984, 31)\n",
            "(984, 30) (984,) 268140 (984, 31)\n",
            "(984, 30) (984,) 268632 (984, 31)\n",
            "(984, 30) (984,) 269124 (984, 31)\n",
            "(984, 30) (984,) 269616 (984, 31)\n",
            "(984, 30) (984,) 270108 (984, 31)\n",
            "(984, 30) (984,) 270600 (984, 31)\n",
            "(984, 30) (984,) 271092 (984, 31)\n",
            "(984, 30) (984,) 271584 (984, 31)\n",
            "(984, 30) (984,) 272076 (984, 31)\n",
            "(984, 30) (984,) 272568 (984, 31)\n",
            "(984, 30) (984,) 273060 (984, 31)\n",
            "(984, 30) (984,) 273552 (984, 31)\n",
            "(984, 30) (984,) 274044 (984, 31)\n",
            "(984, 30) (984,) 274536 (984, 31)\n",
            "(984, 30) (984,) 275028 (984, 31)\n",
            "(984, 30) (984,) 275520 (984, 31)\n",
            "(984, 30) (984,) 276012 (984, 31)\n",
            "(984, 30) (984,) 276504 (984, 31)\n",
            "(984, 30) (984,) 276996 (984, 31)\n",
            "(984, 30) (984,) 277488 (984, 31)\n",
            "(984, 30) (984,) 277980 (984, 31)\n",
            "(984, 30) (984,) 278472 (984, 31)\n",
            "(984, 30) (984,) 278964 (984, 31)\n",
            "(984, 30) (984,) 279456 (984, 31)\n",
            "(984, 30) (984,) 279948 (984, 31)\n",
            "(984, 30) (984,) 280440 (984, 31)\n",
            "(984, 30) (984,) 280932 (984, 31)\n",
            "(984, 30) (984,) 281424 (984, 31)\n",
            "(984, 30) (984,) 281916 (984, 31)\n",
            "(984, 30) (984,) 282408 (984, 31)\n",
            "(984, 30) (984,) 282900 (984, 31)\n",
            "(984, 30) (984,) 283392 (984, 31)\n",
            "(984, 30) (984,) 283884 (984, 31)\n",
            "(923, 30) (923,) 284376 (923, 31)\n"
          ]
        }
      ]
    }
  ]
}